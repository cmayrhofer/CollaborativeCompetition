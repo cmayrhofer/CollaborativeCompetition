{
 "cells": [
  {
   "cell_type": "markdown",
   "metadata": {},
   "source": [
    "# Collaboration and Competition\n",
    "\n",
    "---\n",
    "\n",
    "In this notebook, you will learn how to use the Unity ML-Agents environment for the third project of the [Deep Reinforcement Learning Nanodegree](https://www.udacity.com/course/deep-reinforcement-learning-nanodegree--nd893) program.\n",
    "\n",
    "### 1. Start the Environment\n",
    "\n",
    "We begin by importing the necessary packages.  If the code cell below returns an error, please revisit the project instructions to double-check that you have installed [Unity ML-Agents](https://github.com/Unity-Technologies/ml-agents/blob/master/docs/Installation.md) and [NumPy](http://www.numpy.org/)."
   ]
  },
  {
   "cell_type": "code",
   "execution_count": 1,
   "metadata": {},
   "outputs": [],
   "source": [
    "from unityagents import UnityEnvironment\n",
    "import numpy as np"
   ]
  },
  {
   "cell_type": "code",
   "execution_count": 2,
   "metadata": {},
   "outputs": [],
   "source": [
    "import random\n",
    "import torch.nn as nn\n",
    "import time\n",
    "import torch\n",
    "from collections import deque\n",
    "import matplotlib.pyplot as plt\n",
    "%matplotlib inline"
   ]
  },
  {
   "cell_type": "code",
   "execution_count": 3,
   "metadata": {},
   "outputs": [],
   "source": [
    "from maddpg import MultiAgentDDPG"
   ]
  },
  {
   "cell_type": "markdown",
   "metadata": {},
   "source": [
    "Next, we will start the environment!  **_Before running the code cell below_**, change the `file_name` parameter to match the location of the Unity environment that you downloaded.\n",
    "\n",
    "- **Mac**: `\"path/to/Tennis.app\"`\n",
    "- **Windows** (x86): `\"path/to/Tennis_Windows_x86/Tennis.exe\"`\n",
    "- **Windows** (x86_64): `\"path/to/Tennis_Windows_x86_64/Tennis.exe\"`\n",
    "- **Linux** (x86): `\"path/to/Tennis_Linux/Tennis.x86\"`\n",
    "- **Linux** (x86_64): `\"path/to/Tennis_Linux/Tennis.x86_64\"`\n",
    "- **Linux** (x86, headless): `\"path/to/Tennis_Linux_NoVis/Tennis.x86\"`\n",
    "- **Linux** (x86_64, headless): `\"path/to/Tennis_Linux_NoVis/Tennis.x86_64\"`\n",
    "\n",
    "For instance, if you are using a Mac, then you downloaded `Tennis.app`.  If this file is in the same folder as the notebook, then the line below should appear as follows:\n",
    "```\n",
    "env = UnityEnvironment(file_name=\"Tennis.app\")\n",
    "```"
   ]
  },
  {
   "cell_type": "code",
   "execution_count": 4,
   "metadata": {},
   "outputs": [
    {
     "name": "stderr",
     "output_type": "stream",
     "text": [
      "INFO:unityagents:\n",
      "'Academy' started successfully!\n",
      "Unity Academy name: Academy\n",
      "        Number of Brains: 1\n",
      "        Number of External Brains : 1\n",
      "        Lesson number : 0\n",
      "        Reset Parameters :\n",
      "\t\t\n",
      "Unity brain name: TennisBrain\n",
      "        Number of Visual Observations (per agent): 0\n",
      "        Vector Observation space type: continuous\n",
      "        Vector Observation space size (per agent): 8\n",
      "        Number of stacked Vector Observation: 3\n",
      "        Vector Action space type: continuous\n",
      "        Vector Action space size (per agent): 2\n",
      "        Vector Action descriptions: , \n"
     ]
    }
   ],
   "source": [
    "env = UnityEnvironment(file_name=\"./Tennis_Linux/Tennis.x86_64\")"
   ]
  },
  {
   "cell_type": "markdown",
   "metadata": {},
   "source": [
    "Environments contain **_brains_** which are responsible for deciding the actions of their associated agents. Here we check for the first brain available, and set it as the default brain we will be controlling from Python."
   ]
  },
  {
   "cell_type": "code",
   "execution_count": 5,
   "metadata": {},
   "outputs": [],
   "source": [
    "# get the default brain\n",
    "brain_name = env.brain_names[0]\n",
    "brain = env.brains[brain_name]"
   ]
  },
  {
   "cell_type": "markdown",
   "metadata": {},
   "source": [
    "### 2. Examine the State and Action Spaces\n",
    "\n",
    "In this environment, two agents control rackets to bounce a ball over a net. If an agent hits the ball over the net, it receives a reward of +0.1.  If an agent lets a ball hit the ground or hits the ball out of bounds, it receives a reward of -0.01.  Thus, the goal of each agent is to keep the ball in play.\n",
    "\n",
    "The observation space consists of 8 variables corresponding to the position and velocity of the ball and racket. Two continuous actions are available, corresponding to movement toward (or away from) the net, and jumping. \n",
    "\n",
    "Run the code cell below to print some information about the environment."
   ]
  },
  {
   "cell_type": "code",
   "execution_count": 6,
   "metadata": {},
   "outputs": [
    {
     "name": "stdout",
     "output_type": "stream",
     "text": [
      "Number of agents: 2\n",
      "Size of each action: 2\n",
      "There are 2 agents. Each observes a state with length: 24\n",
      "The state for the first agent looks like: [ 0.          0.          0.          0.          0.          0.\n",
      "  0.          0.          0.          0.          0.          0.\n",
      "  0.          0.          0.          0.         -6.65278625 -1.5\n",
      " -0.          0.          6.83172083  6.         -0.          0.        ]\n"
     ]
    }
   ],
   "source": [
    "# reset the environment\n",
    "env_info = env.reset(train_mode=True)[brain_name]\n",
    "\n",
    "# number of agents \n",
    "num_agents = len(env_info.agents)\n",
    "print('Number of agents:', num_agents)\n",
    "\n",
    "# size of each action\n",
    "action_size = brain.vector_action_space_size\n",
    "print('Size of each action:', action_size)\n",
    "\n",
    "# examine the state space \n",
    "states = env_info.vector_observations\n",
    "state_size = states.shape[1]\n",
    "print('There are {} agents. Each observes a state with length: {}'.format(states.shape[0], state_size))\n",
    "print('The state for the first agent looks like:', states[0])"
   ]
  },
  {
   "cell_type": "markdown",
   "metadata": {},
   "source": [
    "### 3. Take Random Actions in the Environment\n",
    "\n",
    "In the next code cell, you will learn how to use the Python API to control the agents and receive feedback from the environment.\n",
    "\n",
    "Once this cell is executed, you will watch the agents' performance, if they select actions at random with each time step.  A window should pop up that allows you to observe the agents.\n",
    "\n",
    "Of course, as part of the project, you'll have to change the code so that the agents are able to use their experiences to gradually choose better actions when interacting with the environment!"
   ]
  },
  {
   "cell_type": "code",
   "execution_count": 7,
   "metadata": {},
   "outputs": [
    {
     "name": "stdout",
     "output_type": "stream",
     "text": [
      "Score (max over agents) from episode 1: 0.0\n",
      "Score (max over agents) from episode 2: 0.0\n",
      "Score (max over agents) from episode 3: 0.0\n",
      "Score (max over agents) from episode 4: 0.0\n",
      "Score (max over agents) from episode 5: 0.0\n"
     ]
    }
   ],
   "source": [
    "for i in range(1, 6):                                      # play game for 5 episodes\n",
    "    env_info = env.reset(train_mode=False)[brain_name]     # reset the environment    \n",
    "    states = env_info.vector_observations                  # get the current state (for each agent)\n",
    "    scores = np.zeros(num_agents)                          # initialize the score (for each agent)\n",
    "    while True:\n",
    "        actions = np.random.randn(num_agents, action_size) # select an action (for each agent)\n",
    "        actions = np.clip(actions, -1, 1)                  # all actions between -1 and 1\n",
    "        env_info = env.step(actions)[brain_name]           # send all actions to tne environment\n",
    "        next_states = env_info.vector_observations         # get next state (for each agent)\n",
    "        rewards = env_info.rewards                         # get reward (for each agent)\n",
    "        dones = env_info.local_done                        # see if episode finished\n",
    "        scores += env_info.rewards                         # update the score (for each agent)\n",
    "        states = next_states                               # roll over states to next time step\n",
    "        if np.any(dones):                                  # exit loop if episode finished\n",
    "            break\n",
    "    print('Score (max over agents) from episode {}: {}'.format(i, np.max(scores)))"
   ]
  },
  {
   "cell_type": "markdown",
   "metadata": {},
   "source": [
    "When finished, you can close the environment."
   ]
  },
  {
   "cell_type": "code",
   "execution_count": 8,
   "metadata": {},
   "outputs": [],
   "source": [
    "env.close()"
   ]
  },
  {
   "cell_type": "markdown",
   "metadata": {},
   "source": [
    "### 4. It's Your Turn!\n",
    "\n",
    "Now it's your turn to train your own agent to solve the environment!  When training the environment, set `train_mode=True`, so that the line for resetting the environment looks like the following:\n",
    "```python\n",
    "env_info = env.reset(train_mode=True)[brain_name]\n",
    "```"
   ]
  },
  {
   "cell_type": "code",
   "execution_count": 9,
   "metadata": {},
   "outputs": [],
   "source": [
    "multiagent = MultiAgentDDPG(num_agents=num_agents, state_size=state_size, action_size=action_size, random_seed=10)\n",
    "\n",
    "\n",
    "def maddpg(n_episodes=10000, max_t=10000):\n",
    "    \"\"\"Multi-Agent Deep Deterministic Policy Gradient.\n",
    "    \n",
    "    Params\n",
    "    ======\n",
    "        n_episodes (int): maximum number of training episodes\n",
    "        max_t (int): maximum number of timesteps per episode\n",
    "    \"\"\"\n",
    "    starting_time = time.time()        # for timing reasons we notice the starting time\n",
    "    last_time = starting_time          # time to see how long the last hundred episodes took\n",
    "    scores_record = []                        # list containing scores from each episode\n",
    "    scores_window = deque(maxlen=100)  # last 100 scores\n",
    "    max_score = -np.Inf                # initialize the maximal score to zero\n",
    "\n",
    "    for i_episode in range(1, n_episodes+1):\n",
    "        env_info = env.reset(train_mode=True)[brain_name] # reset the environment\n",
    "        states = env_info.vector_observations             # get the current state\n",
    "        t, scores = 0, np.zeros(num_agents)\n",
    "        dones = [False for i in range(num_agents)]\n",
    "        while (not np.any(dones)) and t < max_t - 1:                 # do untill done or beyond t_max\n",
    "            t += 1\n",
    "            actions = multiagent.act(states)                 # select an action\n",
    "            env_info = env.step(actions)[brain_name]        # send the action to the environment\n",
    "            next_states = env_info.vector_observations      # get the next state\n",
    "            rewards = env_info.rewards                     # get the reward\n",
    "            dones = env_info.local_done                 # see if episode has finished\n",
    "            multiagent.step(states, actions, rewards, next_states, dones)\n",
    "            states = next_states\n",
    "            scores += rewards\n",
    "#             print('\\rTime step {}\\tAverage Score: {:.2f} \\t Time passed: {:.1f} mins'.format(t, np.mean(scores_window), (time.time() - starting_time)/60.), end=\"\")\n",
    "        \n",
    "        scores_window.append(np.max(scores))       # save most recent score\n",
    "        scores_record.append(np.max(scores))              # save most recent score\n",
    "        print('\\rEpisode {}\\tAverage Score: {:.2f} \\t Time passed: {:.1f} mins \\t Steps:{}'.format(i_episode, np.mean(scores_window), (time.time() - starting_time)/60., t), end=\"\")\n",
    "        if i_episode % 100 == 0:            \n",
    "            print('\\rEpisode {}\\tAverage Score: {:.2f} \\t last 100 Episodes took {:.1f} mins \\t'.format(i_episode, np.mean(scores_window), (time.time() - last_time)/60.))\n",
    "            last_time = time.time()\n",
    "        if np.mean(scores_window) >= max(.5, max_score + 0.1):\n",
    "            print('\\nNew Maximum Average Score at {:d} episodes!\\tAverage Score: {:.2f} \\t Time passed: {:.1f} mins'.format(i_episode, np.mean(scores_window), (time.time() - starting_time)/60.))\n",
    "            #saving model\n",
    "            save_dict_list =[]\n",
    "            for i in range(num_agents):\n",
    "                save_dict = {'actor_params' : multiagent.maddpg_agent[i].actor_local.state_dict(),\n",
    "                             'actor_optim_params': multiagent.maddpg_agent[i].actor_optimizer.state_dict(),\n",
    "                             'critic_params' : multiagent.maddpg_agent[i].critic_local.state_dict(),\n",
    "                             'critic_optim_params' : multiagent.maddpg_agent[i].critic_optimizer.state_dict()}\n",
    "                save_dict_list.append(save_dict)\n",
    "            torch.save(save_dict_list, 'checkpoint_actors_and_critics.pth')\n",
    "            max_score = np.mean(scores_window)\n",
    "            print('Environment solved')\n",
    "#             break\n",
    "    return scores_record"
   ]
  },
  {
   "cell_type": "code",
   "execution_count": 10,
   "metadata": {
    "scrolled": false
   },
   "outputs": [
    {
     "name": "stderr",
     "output_type": "stream",
     "text": [
      "INFO:unityagents:\n",
      "'Academy' started successfully!\n",
      "Unity Academy name: Academy\n",
      "        Number of Brains: 1\n",
      "        Number of External Brains : 1\n",
      "        Lesson number : 0\n",
      "        Reset Parameters :\n",
      "\t\t\n",
      "Unity brain name: TennisBrain\n",
      "        Number of Visual Observations (per agent): 0\n",
      "        Vector Observation space type: continuous\n",
      "        Vector Observation space size (per agent): 8\n",
      "        Number of stacked Vector Observation: 3\n",
      "        Vector Action space type: continuous\n",
      "        Vector Action space size (per agent): 2\n",
      "        Vector Action descriptions: , \n"
     ]
    },
    {
     "name": "stdout",
     "output_type": "stream",
     "text": [
      "Episode 100\tAverage Score: 0.00 \t last 100 Episodes took 0.4 mins \t\n",
      "Episode 200\tAverage Score: 0.00 \t last 100 Episodes took 0.4 mins \t\n",
      "Episode 300\tAverage Score: 0.00 \t last 100 Episodes took 0.4 mins \t\n",
      "Episode 400\tAverage Score: 0.00 \t last 100 Episodes took 0.3 mins \t\n",
      "Episode 500\tAverage Score: 0.00 \t last 100 Episodes took 0.4 mins \t\n",
      "Episode 600\tAverage Score: 0.00 \t last 100 Episodes took 0.4 mins \t\n",
      "Episode 700\tAverage Score: 0.01 \t last 100 Episodes took 0.4 mins \t\n",
      "Episode 800\tAverage Score: 0.00 \t last 100 Episodes took 0.4 mins \t\n",
      "Episode 900\tAverage Score: 0.00 \t last 100 Episodes took 0.4 mins \t\n",
      "Episode 1000\tAverage Score: 0.00 \t last 100 Episodes took 0.4 mins \t\n",
      "Episode 1100\tAverage Score: 0.00 \t last 100 Episodes took 0.4 mins \t\n",
      "Episode 1200\tAverage Score: 0.00 \t last 100 Episodes took 0.4 mins \t\n",
      "Episode 1300\tAverage Score: 0.00 \t last 100 Episodes took 0.4 mins \t\n",
      "Episode 1400\tAverage Score: 0.02 \t last 100 Episodes took 0.5 mins \t\n",
      "Episode 1500\tAverage Score: 0.01 \t last 100 Episodes took 0.5 mins \t\n",
      "Episode 1600\tAverage Score: 0.03 \t last 100 Episodes took 0.8 mins \t\n",
      "Episode 1700\tAverage Score: 0.04 \t last 100 Episodes took 0.7 mins \t\n",
      "Episode 1800\tAverage Score: 0.05 \t last 100 Episodes took 0.6 mins \t\n",
      "Episode 1900\tAverage Score: 0.04 \t last 100 Episodes took 0.6 mins \t\n",
      "Episode 2000\tAverage Score: 0.04 \t last 100 Episodes took 0.6 mins \t\n",
      "Episode 2100\tAverage Score: 0.04 \t last 100 Episodes took 0.6 mins \t\n",
      "Episode 2200\tAverage Score: 0.04 \t last 100 Episodes took 0.5 mins \t\n",
      "Episode 2300\tAverage Score: 0.05 \t last 100 Episodes took 0.7 mins \t\n",
      "Episode 2400\tAverage Score: 0.04 \t last 100 Episodes took 0.6 mins \t\n",
      "Episode 2500\tAverage Score: 0.07 \t last 100 Episodes took 0.8 mins \t\n",
      "Episode 2600\tAverage Score: 0.05 \t last 100 Episodes took 0.7 mins \t\n",
      "Episode 2700\tAverage Score: 0.07 \t last 100 Episodes took 0.9 mins \t\n",
      "Episode 2800\tAverage Score: 0.10 \t last 100 Episodes took 1.3 mins \t0\n",
      "Episode 2900\tAverage Score: 0.12 \t last 100 Episodes took 1.6 mins \t8\n",
      "Episode 3000\tAverage Score: 0.10 \t last 100 Episodes took 1.4 mins \t5\n",
      "Episode 3100\tAverage Score: 0.11 \t last 100 Episodes took 1.6 mins \t2\n",
      "Episode 3200\tAverage Score: 0.11 \t last 100 Episodes took 1.6 mins \t7\n",
      "Episode 3300\tAverage Score: 0.16 \t last 100 Episodes took 1.9 mins \t1\n",
      "Episode 3400\tAverage Score: 0.16 \t last 100 Episodes took 1.8 mins \t5\n",
      "Episode 3489\tAverage Score: 0.52 \t Time passed: 30.6 mins \t Steps:718\n",
      "New Maximum Average Score at 3489 episodes!\tAverage Score: 0.52 \t Time passed: 30.6 mins\n",
      "Environment solved\n",
      "Episode 3500\tAverage Score: 0.52 \t last 100 Episodes took 5.5 mins \t6\n",
      "Episode 3600\tAverage Score: 0.47 \t last 100 Episodes took 5.6 mins \t01\n",
      "Episode 3637\tAverage Score: 0.62 \t Time passed: 39.4 mins \t Steps:1011\n",
      "New Maximum Average Score at 3637 episodes!\tAverage Score: 0.62 \t Time passed: 39.4 mins\n",
      "Environment solved\n",
      "Episode 3670\tAverage Score: 0.72 \t Time passed: 42.6 mins \t Steps:1001\n",
      "New Maximum Average Score at 3670 episodes!\tAverage Score: 0.72 \t Time passed: 42.6 mins\n",
      "Environment solved\n",
      "Episode 3700\tAverage Score: 0.71 \t last 100 Episodes took 7.7 mins \t01\n",
      "Episode 3800\tAverage Score: 0.29 \t last 100 Episodes took 3.1 mins \t9\n",
      "Episode 3900\tAverage Score: 0.24 \t last 100 Episodes took 2.7 mins \t0\n",
      "Episode 4000\tAverage Score: 0.52 \t last 100 Episodes took 5.6 mins \t01\n",
      "Episode 4100\tAverage Score: 0.63 \t last 100 Episodes took 6.8 mins \t41\n",
      "Episode 4200\tAverage Score: 0.49 \t last 100 Episodes took 5.1 mins \t61\n",
      "Episode 4226\tAverage Score: 0.83 \t Time passed: 72.0 mins \t Steps:7161\n",
      "New Maximum Average Score at 4226 episodes!\tAverage Score: 0.83 \t Time passed: 72.0 mins\n",
      "Environment solved\n",
      "Episode 4249\tAverage Score: 0.93 \t Time passed: 74.7 mins \t Steps:1001\n",
      "New Maximum Average Score at 4249 episodes!\tAverage Score: 0.93 \t Time passed: 74.7 mins\n",
      "Environment solved\n",
      "Episode 4264\tAverage Score: 1.05 \t Time passed: 76.1 mins \t Steps:1001\n",
      "New Maximum Average Score at 4264 episodes!\tAverage Score: 1.05 \t Time passed: 76.1 mins\n",
      "Environment solved\n",
      "Episode 4271\tAverage Score: 1.15 \t Time passed: 77.3 mins \t Steps:8741\n",
      "New Maximum Average Score at 4271 episodes!\tAverage Score: 1.15 \t Time passed: 77.3 mins\n",
      "Environment solved\n",
      "Episode 4285\tAverage Score: 1.27 \t Time passed: 79.3 mins \t Steps:9011\n",
      "New Maximum Average Score at 4285 episodes!\tAverage Score: 1.27 \t Time passed: 79.3 mins\n",
      "Environment solved\n",
      "Episode 4300\tAverage Score: 1.18 \t last 100 Episodes took 12.5 mins \t\n",
      "Episode 4400\tAverage Score: 0.13 \t last 100 Episodes took 1.5 mins \t8\n",
      "Episode 4500\tAverage Score: 0.82 \t last 100 Episodes took 8.0 mins \t01\n",
      "Episode 4600\tAverage Score: 0.41 \t last 100 Episodes took 4.3 mins \t11\n",
      "Episode 4700\tAverage Score: 0.71 \t last 100 Episodes took 7.1 mins \t321\n",
      "Episode 4800\tAverage Score: 0.40 \t last 100 Episodes took 4.0 mins \t451\n",
      "Episode 4900\tAverage Score: 0.61 \t last 100 Episodes took 5.9 mins \t301\n",
      "Episode 5000\tAverage Score: 1.07 \t last 100 Episodes took 10.4 mins \t01\n",
      "Episode 5100\tAverage Score: 1.08 \t last 100 Episodes took 10.6 mins \t01\n",
      "Episode 5200\tAverage Score: 0.39 \t last 100 Episodes took 3.8 mins \t131\n",
      "Episode 5300\tAverage Score: 0.42 \t last 100 Episodes took 4.2 mins \t88\n",
      "Episode 5400\tAverage Score: 1.09 \t last 100 Episodes took 10.6 mins \t01\n",
      "Episode 5445\tAverage Score: 1.37 \t Time passed: 156.0 mins \t Steps:1001\n",
      "New Maximum Average Score at 5445 episodes!\tAverage Score: 1.37 \t Time passed: 156.0 mins\n",
      "Environment solved\n",
      "Episode 5500\tAverage Score: 0.85 \t last 100 Episodes took 8.3 mins \t321\n",
      "Episode 5600\tAverage Score: 0.40 \t last 100 Episodes took 4.0 mins \t671\n",
      "Episode 5700\tAverage Score: 0.28 \t last 100 Episodes took 3.0 mins \t33\n",
      "Episode 5800\tAverage Score: 0.26 \t last 100 Episodes took 2.8 mins \t96\n",
      "Episode 5900\tAverage Score: 0.23 \t last 100 Episodes took 2.3 mins \t37\n",
      "Episode 6000\tAverage Score: 0.45 \t last 100 Episodes took 4.5 mins \t87\n",
      "Episode 6100\tAverage Score: 0.73 \t last 100 Episodes took 7.3 mins \t771\n",
      "Episode 6200\tAverage Score: 0.72 \t last 100 Episodes took 7.2 mins \t001\n",
      "Episode 6300\tAverage Score: 0.63 \t last 100 Episodes took 6.3 mins \t001\n",
      "Episode 6400\tAverage Score: 0.68 \t last 100 Episodes took 6.7 mins \t231\n",
      "Episode 6500\tAverage Score: 0.33 \t last 100 Episodes took 3.3 mins \t82\n",
      "Episode 6600\tAverage Score: 0.59 \t last 100 Episodes took 6.0 mins \t341\n",
      "Episode 6700\tAverage Score: 0.90 \t last 100 Episodes took 8.9 mins \t001\n",
      "Episode 6800\tAverage Score: 0.56 \t last 100 Episodes took 5.7 mins \t841\n",
      "Episode 6900\tAverage Score: 0.54 \t last 100 Episodes took 5.4 mins \t291\n",
      "Episode 7000\tAverage Score: 0.56 \t last 100 Episodes took 5.5 mins \t131\n",
      "Episode 7100\tAverage Score: 0.55 \t last 100 Episodes took 5.5 mins \t591\n",
      "Episode 7200\tAverage Score: 0.65 \t last 100 Episodes took 6.4 mins \t361\n",
      "Episode 7300\tAverage Score: 1.04 \t last 100 Episodes took 10.2 mins \t11\n",
      "Episode 7400\tAverage Score: 0.49 \t last 100 Episodes took 5.1 mins \t201\n",
      "Episode 7500\tAverage Score: 0.73 \t last 100 Episodes took 7.2 mins \t431\n",
      "Episode 7600\tAverage Score: 0.22 \t last 100 Episodes took 2.3 mins \t68\n",
      "Episode 7700\tAverage Score: 0.16 \t last 100 Episodes took 1.6 mins \t01\n",
      "Episode 7800\tAverage Score: 0.17 \t last 100 Episodes took 1.8 mins \t12\n",
      "Episode 7900\tAverage Score: 0.17 \t last 100 Episodes took 1.9 mins \t00\n",
      "Episode 8000\tAverage Score: 0.20 \t last 100 Episodes took 2.2 mins \t21\n",
      "Episode 8100\tAverage Score: 0.50 \t last 100 Episodes took 5.0 mins \t001\n",
      "Episode 8200\tAverage Score: 0.41 \t last 100 Episodes took 4.1 mins \t64\n",
      "Episode 8300\tAverage Score: 0.61 \t last 100 Episodes took 6.2 mins \t201\n",
      "Episode 8400\tAverage Score: 0.41 \t last 100 Episodes took 4.2 mins \t25\n",
      "Episode 8500\tAverage Score: 0.38 \t last 100 Episodes took 3.9 mins \t13\n",
      "Episode 8600\tAverage Score: 0.56 \t last 100 Episodes took 5.6 mins \t901\n",
      "Episode 8700\tAverage Score: 0.51 \t last 100 Episodes took 5.0 mins \t321\n",
      "Episode 8800\tAverage Score: 0.56 \t last 100 Episodes took 5.5 mins \t23\n",
      "Episode 8900\tAverage Score: 0.47 \t last 100 Episodes took 4.8 mins \t72\n",
      "Episode 9000\tAverage Score: 0.39 \t last 100 Episodes took 3.9 mins \t54\n",
      "Episode 9100\tAverage Score: 0.47 \t last 100 Episodes took 4.6 mins \t121\n",
      "Episode 9200\tAverage Score: 0.69 \t last 100 Episodes took 6.8 mins \t301\n",
      "Episode 9300\tAverage Score: 0.94 \t last 100 Episodes took 9.2 mins \t041\n"
     ]
    },
    {
     "name": "stdout",
     "output_type": "stream",
     "text": [
      "Episode 9400\tAverage Score: 0.55 \t last 100 Episodes took 5.5 mins \t441\n",
      "Episode 9500\tAverage Score: 0.42 \t last 100 Episodes took 4.3 mins \t39\n",
      "Episode 9600\tAverage Score: 0.75 \t last 100 Episodes took 7.8 mins \t601\n",
      "Episode 9700\tAverage Score: 0.84 \t last 100 Episodes took 8.9 mins \t001\n",
      "Episode 9800\tAverage Score: 0.46 \t last 100 Episodes took 4.7 mins \t821\n",
      "Episode 9900\tAverage Score: 0.61 \t last 100 Episodes took 6.5 mins \t001\n",
      "Episode 10000\tAverage Score: 0.91 \t last 100 Episodes took 10.1 mins \t01\n"
     ]
    }
   ],
   "source": [
    "try:\n",
    "    env = UnityEnvironment(file_name='./Tennis_Linux_NoVis/Tennis.x86_64')\n",
    "\n",
    "    # get the default brain\n",
    "    brain_name = env.brain_names[0]\n",
    "    brain = env.brains[brain_name]\n",
    "\n",
    "    scores = maddpg()\n",
    "finally:\n",
    "    env.close()"
   ]
  },
  {
   "cell_type": "code",
   "execution_count": 11,
   "metadata": {},
   "outputs": [
    {
     "data": {
      "image/png": "[encoded data removed]",
      "text/plain": [
       "<Figure size 1008x576 with 1 Axes>"
      ]
     },
     "metadata": {},
     "output_type": "display_data"
    }
   ],
   "source": [
    "# plot the scores\n",
    "fig = plt.figure(figsize=(14, 8))\n",
    "ax = fig.add_subplot(111)\n",
    "plt.plot(np.arange(len(scores)), scores)\n",
    "plt.title('learning curve')\n",
    "plt.ylabel('Score')\n",
    "plt.xlabel('Episode #')\n",
    "# save the plot to a png file\n",
    "plt.savefig('learning_curve.png')\n",
    "plt.show()\n",
    "plt.close()"
   ]
  },
  {
   "cell_type": "markdown",
   "metadata": {},
   "source": [
    "### 4. The Performance of a Trained Agent\n",
    "\n",
    "Now we look at the trained agent"
   ]
  },
  {
   "cell_type": "code",
   "execution_count": 14,
   "metadata": {},
   "outputs": [
    {
     "name": "stderr",
     "output_type": "stream",
     "text": [
      "INFO:unityagents:\n",
      "'Academy' started successfully!\n",
      "Unity Academy name: Academy\n",
      "        Number of Brains: 1\n",
      "        Number of External Brains : 1\n",
      "        Lesson number : 0\n",
      "        Reset Parameters :\n",
      "\t\t\n",
      "Unity brain name: TennisBrain\n",
      "        Number of Visual Observations (per agent): 0\n",
      "        Vector Observation space type: continuous\n",
      "        Vector Observation space size (per agent): 8\n",
      "        Number of stacked Vector Observation: 3\n",
      "        Vector Action space type: continuous\n",
      "        Vector Action space size (per agent): 2\n",
      "        Vector Action descriptions: , \n"
     ]
    },
    {
     "name": "stdout",
     "output_type": "stream",
     "text": [
      "Total score (averaged over agents) this episode (205 steps): 0.4950000075623393\n"
     ]
    }
   ],
   "source": [
    "try:\n",
    "    env = UnityEnvironment(file_name=\"./Tennis_Linux/Tennis.x86_64\")\n",
    "\n",
    "    # get the default brain\n",
    "    brain_name = env.brain_names[0]\n",
    "    brain = env.brains[brain_name]\n",
    "    # initialize the agent\n",
    "    multiagent = MultiAgentDDPG(num_agents=num_agents, state_size=state_size, action_size=action_size, random_seed=10)\n",
    "#     # transferlerning from saved state and set to evaluate\n",
    "    save_dict = torch.load('checkpoint_actors_and_critics.pth')\n",
    "    for i in range(num_agents):\n",
    "        multiagent.maddpg_agent[i].actor_local.load_state_dict(save_dict[i]['actor_params'])\n",
    "    env_info = env.reset(train_mode=False)[brain_name] # reset the environment\n",
    "    states = env_info.vector_observations             # get the current state\n",
    "    t, scores = 0, np.zeros(num_agents)\n",
    "    dones = [False for i in range(num_agents)]\n",
    "    max_t=10000\n",
    "    while (not np.any(dones)) and t < max_t - 1:                 # do untill done or beyond t_max\n",
    "        t += 1\n",
    "        actions = multiagent.act(states)                 # select an action\n",
    "        env_info = env.step(actions)[brain_name]        # send the action to the environment\n",
    "        next_states = env_info.vector_observations      # get the next state\n",
    "        rewards = env_info.rewards                     # get the reward\n",
    "        dones = env_info.local_done                 # see if episode has finished\n",
    "        multiagent.step(states, actions, rewards, next_states, dones)\n",
    "        states = next_states\n",
    "        scores += rewards\n",
    "    print('Total score (averaged over agents) this episode ({} steps): {}'.format(t, np.mean(scores)))\n",
    "\n",
    "finally:\n",
    "    env.close()"
   ]
  },
  {
   "cell_type": "code",
   "execution_count": null,
   "metadata": {},
   "outputs": [],
   "source": []
  }
 ],
 "metadata": {
  "kernelspec": {
   "display_name": "Python 3",
   "language": "python",
   "name": "python3"
  },
  "language_info": {
   "codemirror_mode": {
    "name": "ipython",
    "version": 3
   },
   "file_extension": ".py",
   "mimetype": "text/x-python",
   "name": "python",
   "nbconvert_exporter": "python",
   "pygments_lexer": "ipython3",
   "version": "3.6.7"
  }
 },
 "nbformat": 4,
 "nbformat_minor": 2
}
